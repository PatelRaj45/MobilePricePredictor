{
  "nbformat": 4,
  "nbformat_minor": 0,
  "metadata": {
    "colab": {
      "provenance": [],
      "gpuType": "T4"
    },
    "kernelspec": {
      "name": "python3",
      "display_name": "Python 3"
    },
    "language_info": {
      "name": "python"
    },
    "accelerator": "GPU"
  },
  "cells": [
    {
      "cell_type": "code",
      "execution_count": null,
      "metadata": {
        "colab": {
          "base_uri": "https://localhost:8080/"
        },
        "id": "KGkj4nsQZf7Y",
        "outputId": "8ba04c97-cedb-4ef7-ab9d-c29f55bf0eb0"
      },
      "outputs": [
        {
          "output_type": "stream",
          "name": "stderr",
          "text": [
            "/usr/local/lib/python3.11/dist-packages/xgboost/core.py:158: UserWarning: [18:32:32] WARNING: /workspace/src/learner.cc:740: \n",
            "Parameters: { \"use_label_encoder\" } are not used.\n",
            "\n",
            "  warnings.warn(smsg, UserWarning)\n"
          ]
        },
        {
          "output_type": "stream",
          "name": "stdout",
          "text": [
            "\n",
            "📈 XGBoost Model Accuracy: 0.9275\n",
            "\n",
            "📊 Classification Report:\n",
            "               precision    recall  f1-score   support\n",
            "\n",
            "           0       0.96      0.99      0.98       100\n",
            "           1       0.94      0.90      0.92       100\n",
            "           2       0.87      0.90      0.88       100\n",
            "           3       0.95      0.92      0.93       100\n",
            "\n",
            "    accuracy                           0.93       400\n",
            "   macro avg       0.93      0.93      0.93       400\n",
            "weighted avg       0.93      0.93      0.93       400\n",
            "\n"
          ]
        },
        {
          "output_type": "stream",
          "name": "stderr",
          "text": [
            "/usr/local/lib/python3.11/dist-packages/xgboost/core.py:158: UserWarning: [18:32:34] WARNING: /workspace/src/learner.cc:740: \n",
            "Parameters: { \"use_label_encoder\" } are not used.\n",
            "\n",
            "  warnings.warn(smsg, UserWarning)\n"
          ]
        },
        {
          "output_type": "stream",
          "name": "stdout",
          "text": [
            "\n",
            "📈 Voting Classifier Accuracy: 0.9375\n",
            "\n",
            "📊 Voting Classification Report:\n",
            "               precision    recall  f1-score   support\n",
            "\n",
            "           0       0.98      0.98      0.98       100\n",
            "           1       0.93      0.93      0.93       100\n",
            "           2       0.90      0.89      0.89       100\n",
            "           3       0.94      0.95      0.95       100\n",
            "\n",
            "    accuracy                           0.94       400\n",
            "   macro avg       0.94      0.94      0.94       400\n",
            "weighted avg       0.94      0.94      0.94       400\n",
            "\n"
          ]
        },
        {
          "output_type": "stream",
          "name": "stderr",
          "text": [
            "/usr/local/lib/python3.11/dist-packages/xgboost/core.py:158: UserWarning: [18:32:34] WARNING: /workspace/src/learner.cc:740: \n",
            "Parameters: { \"use_label_encoder\" } are not used.\n",
            "\n",
            "  warnings.warn(smsg, UserWarning)\n",
            "/usr/local/lib/python3.11/dist-packages/xgboost/core.py:158: UserWarning: [18:32:35] WARNING: /workspace/src/learner.cc:740: \n",
            "Parameters: { \"use_label_encoder\" } are not used.\n",
            "\n",
            "  warnings.warn(smsg, UserWarning)\n",
            "/usr/local/lib/python3.11/dist-packages/xgboost/core.py:158: UserWarning: [18:32:36] WARNING: /workspace/src/learner.cc:740: \n",
            "Parameters: { \"use_label_encoder\" } are not used.\n",
            "\n",
            "  warnings.warn(smsg, UserWarning)\n",
            "/usr/local/lib/python3.11/dist-packages/xgboost/core.py:158: UserWarning: [18:32:37] WARNING: /workspace/src/learner.cc:740: \n",
            "Parameters: { \"use_label_encoder\" } are not used.\n",
            "\n",
            "  warnings.warn(smsg, UserWarning)\n",
            "/usr/local/lib/python3.11/dist-packages/xgboost/core.py:158: UserWarning: [18:32:38] WARNING: /workspace/src/learner.cc:740: \n",
            "Parameters: { \"use_label_encoder\" } are not used.\n",
            "\n",
            "  warnings.warn(smsg, UserWarning)\n"
          ]
        },
        {
          "output_type": "stream",
          "name": "stdout",
          "text": [
            "\n",
            "🔁 XGBoost Cross-validation Accuracy: 91.80%\n"
          ]
        }
      ],
      "source": [
        "# 📦 Imports\n",
        "import pandas as pd\n",
        "import numpy as np\n",
        "import seaborn as sns\n",
        "import matplotlib.pyplot as plt\n",
        "\n",
        "from sklearn.model_selection import train_test_split, cross_val_score\n",
        "from sklearn.preprocessing import StandardScaler\n",
        "from sklearn.ensemble import RandomForestClassifier, VotingClassifier\n",
        "from sklearn.linear_model import LogisticRegression\n",
        "from sklearn.metrics import classification_report, confusion_matrix, accuracy_score\n",
        "from xgboost import XGBClassifier\n",
        "\n",
        "# 🧾 1. Load the Dataset\n",
        "df = pd.read_csv(\"/content/dataset.csv\")  # Replace with your actual filename\n",
        "\n",
        "# 🛠️ 2. Feature Engineering\n",
        "df['pixel_density'] = df['px_height'] * df['px_width']\n",
        "df['screen_area'] = df['sc_h'] * df['sc_w']\n",
        "df['camera_quality'] = df['pc'] + df['fc']\n",
        "\n",
        "# 🎯 3. Prepare Features and Target\n",
        "X = df.drop(['price_range'], axis=1)\n",
        "y = df['price_range']\n",
        "\n",
        "# 📊 Optional: Visualize Correlation\n",
        "# plt.figure(figsize=(14, 10))\n",
        "# sns.heatmap(df.corr(), annot=True, cmap=\"coolwarm\")\n",
        "# plt.title(\"Feature Correlation\")\n",
        "# plt.show()\n",
        "\n",
        "# 📤 4. Train-Test Split\n",
        "X_train, X_test, y_train, y_test = train_test_split(\n",
        "    X, y, test_size=0.2, stratify=y, random_state=42\n",
        ")\n",
        "\n",
        "# 🔃 5. Feature Scaling (for logistic regression only, not needed for trees/XGBoost)\n",
        "scaler = StandardScaler()\n",
        "X_train_scaled = scaler.fit_transform(X_train)\n",
        "X_test_scaled = scaler.transform(X_test)\n",
        "\n",
        "# 🚀 6. Train XGBoost Classifier\n",
        "xgb_model = XGBClassifier(\n",
        "    objective='multi:softmax',\n",
        "    num_class=4,\n",
        "    learning_rate=0.1,\n",
        "    max_depth=7,\n",
        "    n_estimators=300,\n",
        "    subsample=0.8,\n",
        "    colsample_bytree=0.8,\n",
        "    use_label_encoder=False,\n",
        "    eval_metric='mlogloss',\n",
        "    random_state=42\n",
        ")\n",
        "xgb_model.fit(X_train, y_train)\n",
        "xgb_preds = xgb_model.predict(X_test)\n",
        "\n",
        "print(\"\\n📈 XGBoost Model Accuracy:\", accuracy_score(y_test, xgb_preds))\n",
        "print(\"\\n📊 Classification Report:\\n\", classification_report(y_test, xgb_preds))\n",
        "\n",
        "# 🧠 7. Voting Classifier (Random Forest + Logistic Regression + XGBoost)\n",
        "voting_model = VotingClassifier(estimators=[\n",
        "    ('rf', RandomForestClassifier(n_estimators=200, random_state=42)),\n",
        "    ('xgb', XGBClassifier(use_label_encoder=False, eval_metric='mlogloss', random_state=42)),\n",
        "    ('lr', LogisticRegression(max_iter=2000))\n",
        "], voting='hard')\n",
        "\n",
        "voting_model.fit(X_train_scaled, y_train)\n",
        "voting_preds = voting_model.predict(X_test_scaled)\n",
        "\n",
        "print(\"\\n📈 Voting Classifier Accuracy:\", accuracy_score(y_test, voting_preds))\n",
        "print(\"\\n📊 Voting Classification Report:\\n\", classification_report(y_test, voting_preds))\n",
        "\n",
        "# 🔁 8. Cross-validation (Optional)\n",
        "cv_scores = cross_val_score(xgb_model, X, y, cv=5)\n",
        "print(\"\\n🔁 XGBoost Cross-validation Accuracy: {:.2f}%\".format(cv_scores.mean() * 100))\n"
      ]
    },
    {
      "cell_type": "code",
      "source": [
        "import joblib\n",
        "\n",
        "# Save model and scaler\n",
        "joblib.dump(voting_model, 'best_mobile_price_model.pkl')\n",
        "joblib.dump(scaler, 'scaler.pkl')\n",
        "\n",
        "print(\"✅ Model and scaler saved successfully.\")\n"
      ],
      "metadata": {
        "colab": {
          "base_uri": "https://localhost:8080/"
        },
        "id": "Zq0ayEbgZl0z",
        "outputId": "b095187e-2c9d-4ef1-dd8b-910cb66a34e1"
      },
      "execution_count": null,
      "outputs": [
        {
          "output_type": "stream",
          "name": "stdout",
          "text": [
            "✅ Model and scaler saved successfully.\n"
          ]
        }
      ]
    },
    {
      "cell_type": "code",
      "source": [
        "from google.colab import files\n",
        "\n",
        "files.download('best_mobile_price_model.pkl')\n",
        "files.download('scaler.pkl')\n"
      ],
      "metadata": {
        "colab": {
          "base_uri": "https://localhost:8080/",
          "height": 17
        },
        "id": "6Aa9bm79bzt0",
        "outputId": "83fcdb88-7f56-4f5b-e63e-d4d02ef4d8e7"
      },
      "execution_count": null,
      "outputs": [
        {
          "output_type": "display_data",
          "data": {
            "text/plain": [
              "<IPython.core.display.Javascript object>"
            ],
            "application/javascript": [
              "\n",
              "    async function download(id, filename, size) {\n",
              "      if (!google.colab.kernel.accessAllowed) {\n",
              "        return;\n",
              "      }\n",
              "      const div = document.createElement('div');\n",
              "      const label = document.createElement('label');\n",
              "      label.textContent = `Downloading \"${filename}\": `;\n",
              "      div.appendChild(label);\n",
              "      const progress = document.createElement('progress');\n",
              "      progress.max = size;\n",
              "      div.appendChild(progress);\n",
              "      document.body.appendChild(div);\n",
              "\n",
              "      const buffers = [];\n",
              "      let downloaded = 0;\n",
              "\n",
              "      const channel = await google.colab.kernel.comms.open(id);\n",
              "      // Send a message to notify the kernel that we're ready.\n",
              "      channel.send({})\n",
              "\n",
              "      for await (const message of channel.messages) {\n",
              "        // Send a message to notify the kernel that we're ready.\n",
              "        channel.send({})\n",
              "        if (message.buffers) {\n",
              "          for (const buffer of message.buffers) {\n",
              "            buffers.push(buffer);\n",
              "            downloaded += buffer.byteLength;\n",
              "            progress.value = downloaded;\n",
              "          }\n",
              "        }\n",
              "      }\n",
              "      const blob = new Blob(buffers, {type: 'application/binary'});\n",
              "      const a = document.createElement('a');\n",
              "      a.href = window.URL.createObjectURL(blob);\n",
              "      a.download = filename;\n",
              "      div.appendChild(a);\n",
              "      a.click();\n",
              "      div.remove();\n",
              "    }\n",
              "  "
            ]
          },
          "metadata": {}
        },
        {
          "output_type": "display_data",
          "data": {
            "text/plain": [
              "<IPython.core.display.Javascript object>"
            ],
            "application/javascript": [
              "download(\"download_0f083098-d0b6-4a4e-8e10-fdb4c3f4a695\", \"best_mobile_price_model.pkl\", 11934647)"
            ]
          },
          "metadata": {}
        },
        {
          "output_type": "display_data",
          "data": {
            "text/plain": [
              "<IPython.core.display.Javascript object>"
            ],
            "application/javascript": [
              "\n",
              "    async function download(id, filename, size) {\n",
              "      if (!google.colab.kernel.accessAllowed) {\n",
              "        return;\n",
              "      }\n",
              "      const div = document.createElement('div');\n",
              "      const label = document.createElement('label');\n",
              "      label.textContent = `Downloading \"${filename}\": `;\n",
              "      div.appendChild(label);\n",
              "      const progress = document.createElement('progress');\n",
              "      progress.max = size;\n",
              "      div.appendChild(progress);\n",
              "      document.body.appendChild(div);\n",
              "\n",
              "      const buffers = [];\n",
              "      let downloaded = 0;\n",
              "\n",
              "      const channel = await google.colab.kernel.comms.open(id);\n",
              "      // Send a message to notify the kernel that we're ready.\n",
              "      channel.send({})\n",
              "\n",
              "      for await (const message of channel.messages) {\n",
              "        // Send a message to notify the kernel that we're ready.\n",
              "        channel.send({})\n",
              "        if (message.buffers) {\n",
              "          for (const buffer of message.buffers) {\n",
              "            buffers.push(buffer);\n",
              "            downloaded += buffer.byteLength;\n",
              "            progress.value = downloaded;\n",
              "          }\n",
              "        }\n",
              "      }\n",
              "      const blob = new Blob(buffers, {type: 'application/binary'});\n",
              "      const a = document.createElement('a');\n",
              "      a.href = window.URL.createObjectURL(blob);\n",
              "      a.download = filename;\n",
              "      div.appendChild(a);\n",
              "      a.click();\n",
              "      div.remove();\n",
              "    }\n",
              "  "
            ]
          },
          "metadata": {}
        },
        {
          "output_type": "display_data",
          "data": {
            "text/plain": [
              "<IPython.core.display.Javascript object>"
            ],
            "application/javascript": [
              "download(\"download_50fc289b-fd22-4de8-b170-5b1e05af428c\", \"scaler.pkl\", 1647)"
            ]
          },
          "metadata": {}
        }
      ]
    },
    {
      "cell_type": "code",
      "source": [
        "# Load model and scaler\n",
        "model = joblib.load('best_mobile_price_model.pkl')\n",
        "scaler = joblib.load('scaler.pkl')\n",
        "\n",
        "# Corrected input feature: use 'm_dep' instead of 'm_deep'\n",
        "sample = pd.DataFrame([{\n",
        "    'battery_power': 1000,\n",
        "    'blue': 1,\n",
        "    'clock_speed': 1.2,\n",
        "    'dual_sim': 1,\n",
        "    'fc': 2,\n",
        "    'four_g': 1,\n",
        "    'int_memory': 16,\n",
        "    'm_dep': 0.5,  #\n",
        "    'mobile_wt': 150,\n",
        "    'n_cores': 4,\n",
        "    'pc': 10,\n",
        "    'px_height': 600,\n",
        "    'px_width': 1000,\n",
        "    'ram': 2048,\n",
        "    'sc_h': 10,\n",
        "    'sc_w': 5,\n",
        "    'talk_time': 10,\n",
        "    'three_g': 1,\n",
        "    'touch_screen': 1,\n",
        "    'wifi': 1,\n",
        "    'pixel_density': 600000,\n",
        "    'screen_area': 50,\n",
        "    'camera_quality': 12\n",
        "}])\n",
        "\n",
        "# Apply same scaling\n",
        "sample_scaled = scaler.transform(sample)\n",
        "\n",
        "# Predict\n",
        "predicted_class = model.predict(sample_scaled)\n",
        "print(\"Predicted price range:\", predicted_class[0])  # 0 to 3\n"
      ],
      "metadata": {
        "colab": {
          "base_uri": "https://localhost:8080/"
        },
        "id": "T_gB9d6UdHwH",
        "outputId": "79fdbb9d-6909-4d90-f72d-a75fe256fddd"
      },
      "execution_count": null,
      "outputs": [
        {
          "output_type": "stream",
          "name": "stdout",
          "text": [
            "Predicted price range: 1\n"
          ]
        }
      ]
    },
    {
      "cell_type": "code",
      "source": [
        "import os\n",
        "\n",
        "os.makedirs(\"demos/mobile_price_predictor\", exist_ok=True)\n"
      ],
      "metadata": {
        "id": "BRLtdQuTdLS7"
      },
      "execution_count": null,
      "outputs": []
    },
    {
      "cell_type": "code",
      "source": [
        "%%writefile demos/mobile_price_predictor/app.py\n",
        "import gradio as gr\n",
        "import joblib\n",
        "import pandas as pd\n",
        "from model import predict_price_range\n",
        "\n",
        "# Load class names\n",
        "with open(\"class_names.txt\", \"r\") as f:\n",
        "    class_names = [line.strip() for line in f.readlines()]\n",
        "\n",
        "# Gradio UI Input Fields\n",
        "inputs = [\n",
        "    gr.Number(label=col) for col in [\n",
        "        'battery_power', 'blue', 'clock_speed', 'dual_sim', 'fc', 'four_g',\n",
        "        'int_memory', 'm_dep', 'mobile_wt', 'n_cores', 'pc', 'px_height',\n",
        "        'px_width', 'ram', 'sc_h', 'sc_w', 'talk_time', 'three_g',\n",
        "        'touch_screen', 'wifi'\n",
        "    ]\n",
        "]\n",
        "\n",
        "def gradio_predict(*args):\n",
        "    sample = pd.DataFrame([args], columns=[\n",
        "        'battery_power', 'blue', 'clock_speed', 'dual_sim', 'fc', 'four_g',\n",
        "        'int_memory', 'm_dep', 'mobile_wt', 'n_cores', 'pc', 'px_height',\n",
        "        'px_width', 'ram', 'sc_h', 'sc_w', 'talk_time', 'three_g',\n",
        "        'touch_screen', 'wifi'\n",
        "    ])\n",
        "    pred_class, probs = predict_price_range(sample)\n",
        "    return {class_names[i]: float(probs[i]) for i in range(len(class_names))}\n",
        "\n",
        "examples = [[\"1000\", \"1\", \"1.2\", \"1\", \"2\", \"1\", \"16\", \"0.5\", \"150\", \"4\", \"10\", \"600\", \"1000\", \"2048\", \"10\", \"5\", \"10\", \"1\", \"1\", \"1\"]]\n",
        "\n",
        "demo = gr.Interface(\n",
        "    fn=gradio_predict,\n",
        "    inputs=inputs,\n",
        "    outputs=gr.Label(num_top_classes=4, label=\"Predicted Price Range\"),\n",
        "    title=\"📱 Mobile Price Predictor\",\n",
        "    description=\"Enter the specifications of a mobile phone to predict its price range (0: Low, 3: High).\",\n",
        "    examples=examples\n",
        ")\n",
        "\n",
        "demo.launch()\n"
      ],
      "metadata": {
        "colab": {
          "base_uri": "https://localhost:8080/"
        },
        "id": "9P1I8_IgfuRl",
        "outputId": "978fb3b0-2e15-4f9a-c04a-9d3987013a81"
      },
      "execution_count": null,
      "outputs": [
        {
          "output_type": "stream",
          "name": "stdout",
          "text": [
            "Writing demos/mobile_price_predictor/app.py\n"
          ]
        }
      ]
    },
    {
      "cell_type": "code",
      "source": [
        "%%writefile demos/mobile_price_predictor/model.py\n",
        "import joblib\n",
        "import pandas as pd\n",
        "\n",
        "# Load model and scaler\n",
        "model = joblib.load(\"best_mobile_price_model.pkl\")\n",
        "scaler = joblib.load(\"scaler.pkl\")\n",
        "\n",
        "def predict_price_range(sample_df):\n",
        "    sample_df[\"pixel_density\"] = sample_df[\"px_height\"] * sample_df[\"px_width\"]\n",
        "    sample_df[\"screen_area\"] = sample_df[\"sc_h\"] * sample_df[\"sc_w\"]\n",
        "    sample_df[\"camera_quality\"] = sample_df[\"pc\"] + sample_df[\"fc\"]\n",
        "\n",
        "    # Reorder columns as per model training\n",
        "    sample_scaled = scaler.transform(sample_df)\n",
        "    pred_class = model.predict(sample_scaled)\n",
        "    pred_probs = model.predict_proba(sample_scaled)\n",
        "\n",
        "    return pred_class[0], pred_probs[0]\n"
      ],
      "metadata": {
        "colab": {
          "base_uri": "https://localhost:8080/"
        },
        "id": "zeFyTnKsgDK4",
        "outputId": "11c51546-02f0-4f4f-a13f-5caa0697c9e8"
      },
      "execution_count": null,
      "outputs": [
        {
          "output_type": "stream",
          "name": "stdout",
          "text": [
            "Writing demos/mobile_price_predictor/model.py\n"
          ]
        }
      ]
    },
    {
      "cell_type": "code",
      "source": [
        "%%writefile demos/mobile_price_predictor/requirements.txt\n",
        "pandas\n",
        "numpy\n",
        "scikit-learn\n",
        "xgboost\n",
        "gradio\n",
        "joblib\n"
      ],
      "metadata": {
        "colab": {
          "base_uri": "https://localhost:8080/"
        },
        "id": "AjhUHTUdgFDG",
        "outputId": "8120a433-2229-4d1c-b4c6-dfeef9e525aa"
      },
      "execution_count": null,
      "outputs": [
        {
          "output_type": "stream",
          "name": "stdout",
          "text": [
            "Writing demos/mobile_price_predictor/requirements.txt\n"
          ]
        }
      ]
    },
    {
      "cell_type": "code",
      "source": [
        "%%writefile demos/mobile_price_predictor/class_names.txt\n",
        "Low Cost (0)\n",
        "Medium Cost (1)\n",
        "High Cost (2)\n",
        "Very High Cost (3)\n"
      ],
      "metadata": {
        "colab": {
          "base_uri": "https://localhost:8080/"
        },
        "id": "Z4inaLAAgGqb",
        "outputId": "cdca1c7b-e490-4f5a-9e4b-581912d84c82"
      },
      "execution_count": null,
      "outputs": [
        {
          "output_type": "stream",
          "name": "stdout",
          "text": [
            "Writing demos/mobile_price_predictor/class_names.txt\n"
          ]
        }
      ]
    },
    {
      "cell_type": "code",
      "source": [
        "from pathlib import Path\n",
        "import json\n",
        "\n",
        "# Create example directory\n",
        "example_dir = Path(\"demos/mobile_price_predictor/examples\")\n",
        "example_dir.mkdir(parents=True, exist_ok=True)\n",
        "\n",
        "# Example input\n",
        "example_data = {\n",
        "    \"battery_power\": 1000,\n",
        "    \"blue\": 1,\n",
        "    \"clock_speed\": 1.2,\n",
        "    \"dual_sim\": 1,\n",
        "    \"fc\": 2,\n",
        "    \"four_g\": 1,\n",
        "    \"int_memory\": 16,\n",
        "    \"m_dep\": 0.5,\n",
        "    \"mobile_wt\": 150,\n",
        "    \"n_cores\": 4,\n",
        "    \"pc\": 10,\n",
        "    \"px_height\": 600,\n",
        "    \"px_width\": 1000,\n",
        "    \"ram\": 2048,\n",
        "    \"sc_h\": 10,\n",
        "    \"sc_w\": 5,\n",
        "    \"talk_time\": 10,\n",
        "    \"three_g\": 1,\n",
        "    \"touch_screen\": 1,\n",
        "    \"wifi\": 1\n",
        "}\n",
        "\n",
        "# Save example\n",
        "with open(example_dir / \"example_1.json\", \"w\") as f:\n",
        "    json.dump(example_data, f)\n"
      ],
      "metadata": {
        "id": "u5JvdtCygH8l"
      },
      "execution_count": null,
      "outputs": []
    },
    {
      "cell_type": "code",
      "source": [
        "# Zip the mobile_price_predictor folder but exclude cache and notebook files\n",
        "!cd demos/mobile_price_predictor && zip -r ../mobile_price_predictor.zip * -x \"*.pyc\" \"*.ipynb\" \"*__pycache__*\" \"*ipynb_checkpoints*\"\n",
        "\n",
        "try:\n",
        "    from google.colab import files\n",
        "    files.download(\"demos/mobile_price_predictor.zip\")\n",
        "except:\n",
        "    print(\"Not running in Google Colab, can't use google.colab.files.download()\")\n"
      ],
      "metadata": {
        "colab": {
          "base_uri": "https://localhost:8080/",
          "height": 126
        },
        "id": "PPM4MIalgK-1",
        "outputId": "3406203b-4518-4aae-8e1e-7f2a923981c1"
      },
      "execution_count": null,
      "outputs": [
        {
          "output_type": "stream",
          "name": "stdout",
          "text": [
            "  adding: app.py (deflated 55%)\n",
            "  adding: class_names.txt (deflated 29%)\n",
            "  adding: examples/ (stored 0%)\n",
            "  adding: examples/example_1.json (deflated 41%)\n",
            "  adding: model.py (deflated 56%)\n",
            "  adding: requirements.txt (stored 0%)\n"
          ]
        },
        {
          "output_type": "display_data",
          "data": {
            "text/plain": [
              "<IPython.core.display.Javascript object>"
            ],
            "application/javascript": [
              "\n",
              "    async function download(id, filename, size) {\n",
              "      if (!google.colab.kernel.accessAllowed) {\n",
              "        return;\n",
              "      }\n",
              "      const div = document.createElement('div');\n",
              "      const label = document.createElement('label');\n",
              "      label.textContent = `Downloading \"${filename}\": `;\n",
              "      div.appendChild(label);\n",
              "      const progress = document.createElement('progress');\n",
              "      progress.max = size;\n",
              "      div.appendChild(progress);\n",
              "      document.body.appendChild(div);\n",
              "\n",
              "      const buffers = [];\n",
              "      let downloaded = 0;\n",
              "\n",
              "      const channel = await google.colab.kernel.comms.open(id);\n",
              "      // Send a message to notify the kernel that we're ready.\n",
              "      channel.send({})\n",
              "\n",
              "      for await (const message of channel.messages) {\n",
              "        // Send a message to notify the kernel that we're ready.\n",
              "        channel.send({})\n",
              "        if (message.buffers) {\n",
              "          for (const buffer of message.buffers) {\n",
              "            buffers.push(buffer);\n",
              "            downloaded += buffer.byteLength;\n",
              "            progress.value = downloaded;\n",
              "          }\n",
              "        }\n",
              "      }\n",
              "      const blob = new Blob(buffers, {type: 'application/binary'});\n",
              "      const a = document.createElement('a');\n",
              "      a.href = window.URL.createObjectURL(blob);\n",
              "      a.download = filename;\n",
              "      div.appendChild(a);\n",
              "      a.click();\n",
              "      div.remove();\n",
              "    }\n",
              "  "
            ]
          },
          "metadata": {}
        },
        {
          "output_type": "display_data",
          "data": {
            "text/plain": [
              "<IPython.core.display.Javascript object>"
            ],
            "application/javascript": [
              "download(\"download_4ceb5c8a-f429-4fcd-b62e-9bce4352f0fb\", \"mobile_price_predictor.zip\", 2148)"
            ]
          },
          "metadata": {}
        }
      ]
    },
    {
      "cell_type": "code",
      "source": [],
      "metadata": {
        "id": "wHYao9BnkiGU"
      },
      "execution_count": null,
      "outputs": []
    }
  ]
}